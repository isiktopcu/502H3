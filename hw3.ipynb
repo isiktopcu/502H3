{
 "cells": [
  {
   "cell_type": "markdown",
   "id": "fac4c522",
   "metadata": {},
   "source": [
    "# CSES Population Survey Voting Prediction - CSSM 502 Homework 3 "
   ]
  },
  {
   "cell_type": "markdown",
   "id": "670ce53b",
   "metadata": {},
   "source": [
    "# Importing the Libraries "
   ]
  },
  {
   "cell_type": "code",
   "execution_count": 1,
   "id": "c2cc7a4c",
   "metadata": {},
   "outputs": [],
   "source": [
    "import pandas as pd\n",
    "import numpy as np\n",
    "import matplotlib.pyplot as plt\n",
    "from sklearn.model_selection import train_test_split, cross_val_score, cross_val_predict\n",
    "from sklearn.naive_bayes import GaussianNB\n",
    "from sklearn.metrics import accuracy_score\n",
    "from sklearn.metrics import confusion_matrix\n",
    "import seaborn as sns\n",
    "from sklearn.metrics import classification_report\n",
    "from sklearn.impute import SimpleImputer"
   ]
  },
  {
   "cell_type": "markdown",
   "id": "f944d6e7",
   "metadata": {},
   "source": [
    "# Reading the Data "
   ]
  },
  {
   "cell_type": "code",
   "execution_count": 2,
   "id": "1d157b68",
   "metadata": {},
   "outputs": [],
   "source": [
    "df = pd.read_csv(\"cses4_cut.csv\") #reading the data"
   ]
  },
  {
   "cell_type": "code",
   "execution_count": 3,
   "id": "3944e299",
   "metadata": {},
   "outputs": [],
   "source": [
    "df.drop([\"Unnamed: 0\"], axis=1, inplace=True) #unnecessary index-like column "
   ]
  },
  {
   "cell_type": "code",
   "execution_count": 4,
   "id": "3680ef5a",
   "metadata": {
    "scrolled": true
   },
   "outputs": [
    {
     "data": {
      "text/html": [
       "<div>\n",
       "<style scoped>\n",
       "    .dataframe tbody tr th:only-of-type {\n",
       "        vertical-align: middle;\n",
       "    }\n",
       "\n",
       "    .dataframe tbody tr th {\n",
       "        vertical-align: top;\n",
       "    }\n",
       "\n",
       "    .dataframe thead th {\n",
       "        text-align: right;\n",
       "    }\n",
       "</style>\n",
       "<table border=\"1\" class=\"dataframe\">\n",
       "  <thead>\n",
       "    <tr style=\"text-align: right;\">\n",
       "      <th></th>\n",
       "      <th>D2002</th>\n",
       "      <th>D2003</th>\n",
       "      <th>D2004</th>\n",
       "      <th>D2005</th>\n",
       "      <th>D2006</th>\n",
       "      <th>D2007</th>\n",
       "      <th>D2008</th>\n",
       "      <th>D2009</th>\n",
       "      <th>D2010</th>\n",
       "      <th>D2011</th>\n",
       "      <th>...</th>\n",
       "      <th>D2024</th>\n",
       "      <th>D2025</th>\n",
       "      <th>D2026</th>\n",
       "      <th>D2027</th>\n",
       "      <th>D2028</th>\n",
       "      <th>D2029</th>\n",
       "      <th>D2030</th>\n",
       "      <th>D2031</th>\n",
       "      <th>age</th>\n",
       "      <th>voted</th>\n",
       "    </tr>\n",
       "  </thead>\n",
       "  <tbody>\n",
       "    <tr>\n",
       "      <th>0</th>\n",
       "      <td>1</td>\n",
       "      <td>4</td>\n",
       "      <td>4</td>\n",
       "      <td>2</td>\n",
       "      <td>2</td>\n",
       "      <td>9</td>\n",
       "      <td>9</td>\n",
       "      <td>9</td>\n",
       "      <td>1</td>\n",
       "      <td>422</td>\n",
       "      <td>...</td>\n",
       "      <td>9</td>\n",
       "      <td>9</td>\n",
       "      <td>8300</td>\n",
       "      <td>121</td>\n",
       "      <td>8</td>\n",
       "      <td>999</td>\n",
       "      <td>999</td>\n",
       "      <td>4</td>\n",
       "      <td>31</td>\n",
       "      <td>True</td>\n",
       "    </tr>\n",
       "    <tr>\n",
       "      <th>1</th>\n",
       "      <td>2</td>\n",
       "      <td>3</td>\n",
       "      <td>1</td>\n",
       "      <td>2</td>\n",
       "      <td>2</td>\n",
       "      <td>9</td>\n",
       "      <td>9</td>\n",
       "      <td>9</td>\n",
       "      <td>8</td>\n",
       "      <td>999</td>\n",
       "      <td>...</td>\n",
       "      <td>6</td>\n",
       "      <td>9</td>\n",
       "      <td>1101</td>\n",
       "      <td>121</td>\n",
       "      <td>12</td>\n",
       "      <td>999</td>\n",
       "      <td>999</td>\n",
       "      <td>4</td>\n",
       "      <td>42</td>\n",
       "      <td>True</td>\n",
       "    </tr>\n",
       "    <tr>\n",
       "      <th>2</th>\n",
       "      <td>2</td>\n",
       "      <td>2</td>\n",
       "      <td>1</td>\n",
       "      <td>2</td>\n",
       "      <td>2</td>\n",
       "      <td>9</td>\n",
       "      <td>9</td>\n",
       "      <td>9</td>\n",
       "      <td>7</td>\n",
       "      <td>818</td>\n",
       "      <td>...</td>\n",
       "      <td>5</td>\n",
       "      <td>9</td>\n",
       "      <td>1101</td>\n",
       "      <td>121</td>\n",
       "      <td>2</td>\n",
       "      <td>999</td>\n",
       "      <td>999</td>\n",
       "      <td>4</td>\n",
       "      <td>67</td>\n",
       "      <td>True</td>\n",
       "    </tr>\n",
       "    <tr>\n",
       "      <th>3</th>\n",
       "      <td>2</td>\n",
       "      <td>4</td>\n",
       "      <td>4</td>\n",
       "      <td>2</td>\n",
       "      <td>2</td>\n",
       "      <td>9</td>\n",
       "      <td>9</td>\n",
       "      <td>9</td>\n",
       "      <td>5</td>\n",
       "      <td>513</td>\n",
       "      <td>...</td>\n",
       "      <td>9</td>\n",
       "      <td>9</td>\n",
       "      <td>8300</td>\n",
       "      <td>121</td>\n",
       "      <td>2</td>\n",
       "      <td>999</td>\n",
       "      <td>999</td>\n",
       "      <td>4</td>\n",
       "      <td>26</td>\n",
       "      <td>False</td>\n",
       "    </tr>\n",
       "    <tr>\n",
       "      <th>4</th>\n",
       "      <td>1</td>\n",
       "      <td>6</td>\n",
       "      <td>4</td>\n",
       "      <td>1</td>\n",
       "      <td>1</td>\n",
       "      <td>9</td>\n",
       "      <td>9</td>\n",
       "      <td>9</td>\n",
       "      <td>1</td>\n",
       "      <td>235</td>\n",
       "      <td>...</td>\n",
       "      <td>1</td>\n",
       "      <td>9</td>\n",
       "      <td>1101</td>\n",
       "      <td>121</td>\n",
       "      <td>2</td>\n",
       "      <td>999</td>\n",
       "      <td>999</td>\n",
       "      <td>4</td>\n",
       "      <td>55</td>\n",
       "      <td>True</td>\n",
       "    </tr>\n",
       "  </tbody>\n",
       "</table>\n",
       "<p>5 rows × 32 columns</p>\n",
       "</div>"
      ],
      "text/plain": [
       "   D2002  D2003  D2004  D2005  D2006  D2007  D2008  D2009  D2010  D2011  ...  \\\n",
       "0      1      4      4      2      2      9      9      9      1    422  ...   \n",
       "1      2      3      1      2      2      9      9      9      8    999  ...   \n",
       "2      2      2      1      2      2      9      9      9      7    818  ...   \n",
       "3      2      4      4      2      2      9      9      9      5    513  ...   \n",
       "4      1      6      4      1      1      9      9      9      1    235  ...   \n",
       "\n",
       "   D2024  D2025  D2026  D2027  D2028  D2029  D2030  D2031  age  voted  \n",
       "0      9      9   8300    121      8    999    999      4   31   True  \n",
       "1      6      9   1101    121     12    999    999      4   42   True  \n",
       "2      5      9   1101    121      2    999    999      4   67   True  \n",
       "3      9      9   8300    121      2    999    999      4   26  False  \n",
       "4      1      9   1101    121      2    999    999      4   55   True  \n",
       "\n",
       "[5 rows x 32 columns]"
      ]
     },
     "execution_count": 4,
     "metadata": {},
     "output_type": "execute_result"
    }
   ],
   "source": [
    "df.head()"
   ]
  },
  {
   "cell_type": "code",
   "execution_count": 5,
   "id": "bb3ae75d",
   "metadata": {},
   "outputs": [
    {
     "data": {
      "text/plain": [
       "True     10226\n",
       "False     2225\n",
       "Name: voted, dtype: int64"
      ]
     },
     "execution_count": 5,
     "metadata": {},
     "output_type": "execute_result"
    }
   ],
   "source": [
    "df[\"voted\"].value_counts() #voted value counts"
   ]
  },
  {
   "cell_type": "code",
   "execution_count": 6,
   "id": "5e07c65e",
   "metadata": {},
   "outputs": [
    {
     "data": {
      "text/plain": [
       "D2002   -0.003137\n",
       "D2003    0.021504\n",
       "D2004   -0.099384\n",
       "D2005   -0.012776\n",
       "D2006   -0.073673\n",
       "D2007   -0.110156\n",
       "D2008   -0.109979\n",
       "D2009   -0.110155\n",
       "D2010   -0.027552\n",
       "D2011   -0.132420\n",
       "D2012   -0.118547\n",
       "D2013   -0.163838\n",
       "D2014   -0.181962\n",
       "D2015   -0.116749\n",
       "D2016   -0.090799\n",
       "D2017   -0.094490\n",
       "D2018   -0.121979\n",
       "D2019   -0.127375\n",
       "D2020   -0.024156\n",
       "D2021   -0.170686\n",
       "D2022    0.107088\n",
       "D2023   -0.097532\n",
       "D2024    0.026272\n",
       "D2025   -0.131028\n",
       "D2026   -0.061747\n",
       "D2027   -0.099579\n",
       "D2028   -0.126310\n",
       "D2029    0.078233\n",
       "D2030   -0.069317\n",
       "D2031   -0.067071\n",
       "age      0.256741\n",
       "voted    1.000000\n",
       "Name: voted, dtype: float64"
      ]
     },
     "execution_count": 6,
     "metadata": {},
     "output_type": "execute_result"
    }
   ],
   "source": [
    "df.corr().loc['voted'] #correlation of every feature with the target"
   ]
  },
  {
   "cell_type": "code",
   "execution_count": 7,
   "id": "13d11ad6",
   "metadata": {},
   "outputs": [
    {
     "data": {
      "text/plain": [
       "Index(['D2002', 'D2003', 'D2004', 'D2005', 'D2006', 'D2007', 'D2008', 'D2009',\n",
       "       'D2010', 'D2011', 'D2012', 'D2013', 'D2014', 'D2015', 'D2016', 'D2017',\n",
       "       'D2018', 'D2019', 'D2020', 'D2021', 'D2022', 'D2023', 'D2024', 'D2025',\n",
       "       'D2026', 'D2027', 'D2028', 'D2029', 'D2030', 'D2031', 'age', 'voted'],\n",
       "      dtype='object')"
      ]
     },
     "execution_count": 7,
     "metadata": {},
     "output_type": "execute_result"
    }
   ],
   "source": [
    "df.columns #columns "
   ]
  },
  {
   "cell_type": "markdown",
   "id": "f79c401d",
   "metadata": {},
   "source": [
    "Printing the value counts for every column to see which variables are the best predictors, which have the least missing values. "
   ]
  },
  {
   "cell_type": "code",
   "execution_count": 8,
   "id": "a8bad4f8",
   "metadata": {},
   "outputs": [
    {
     "name": "stdout",
     "output_type": "stream",
     "text": [
      "---- D2002 ---\n",
      "2    6623\n",
      "1    5828\n",
      "Name: D2002, dtype: int64\n",
      "---- D2003 ---\n",
      "4     4297\n",
      "2     2184\n",
      "3     2160\n",
      "7     1214\n",
      "1      766\n",
      "5      572\n",
      "6      565\n",
      "8      436\n",
      "96     168\n",
      "9       49\n",
      "97      20\n",
      "99      18\n",
      "98       2\n",
      "Name: D2003, dtype: int64\n",
      "---- D2004 ---\n",
      "1    7607\n",
      "4    2592\n",
      "3     857\n",
      "9     738\n",
      "2     621\n",
      "7      27\n",
      "8       9\n",
      "Name: D2004, dtype: int64\n",
      "---- D2005 ---\n",
      "2    10472\n",
      "9     1108\n",
      "1      789\n",
      "8       54\n",
      "7       28\n",
      "Name: D2005, dtype: int64\n",
      "---- D2006 ---\n",
      "2    9552\n",
      "9    2206\n",
      "1     564\n",
      "8      90\n",
      "7      39\n",
      "Name: D2006, dtype: int64\n",
      "---- D2007 ---\n",
      "9    7086\n",
      "2    5211\n",
      "1      93\n",
      "8      42\n",
      "7      19\n",
      "Name: D2007, dtype: int64\n",
      "---- D2008 ---\n",
      "9    7087\n",
      "2    5192\n",
      "1     113\n",
      "8      41\n",
      "7      18\n",
      "Name: D2008, dtype: int64\n",
      "---- D2009 ---\n",
      "9    7086\n",
      "2    5145\n",
      "1     159\n",
      "8      43\n",
      "7      18\n",
      "Name: D2009, dtype: int64\n",
      "---- D2010 ---\n",
      "1     6068\n",
      "7     1827\n",
      "8     1626\n",
      "5      909\n",
      "2      708\n",
      "6      466\n",
      "9      279\n",
      "3      229\n",
      "10     186\n",
      "4       49\n",
      "97      42\n",
      "11      40\n",
      "98      19\n",
      "99       3\n",
      "Name: D2010, dtype: int64\n",
      "---- D2011 ---\n",
      "999    7566\n",
      "522     387\n",
      "911     230\n",
      "931     151\n",
      "832     137\n",
      "       ... \n",
      "212       2\n",
      "633       1\n",
      "225       1\n",
      "224       1\n",
      "951       1\n",
      "Name: D2011, Length: 131, dtype: int64\n",
      "---- D2012 ---\n",
      "9    6556\n",
      "2    2097\n",
      "1    1926\n",
      "4    1347\n",
      "3     418\n",
      "7      89\n",
      "8      18\n",
      "Name: D2012, dtype: int64\n",
      "---- D2013 ---\n",
      "9    5227\n",
      "2    4617\n",
      "1    1469\n",
      "5     893\n",
      "4     105\n",
      "3      45\n",
      "7      43\n",
      "8      37\n",
      "6      15\n",
      "Name: D2013, dtype: int64\n",
      "---- D2014 ---\n",
      "9    5398\n",
      "3    4719\n",
      "2    1565\n",
      "1     471\n",
      "4     165\n",
      "7      80\n",
      "8      53\n",
      "Name: D2014, dtype: int64\n",
      "---- D2015 ---\n",
      "99    7063\n",
      "1     2473\n",
      "7      906\n",
      "8      763\n",
      "12     604\n",
      "5      170\n",
      "97     108\n",
      "2       88\n",
      "10      88\n",
      "9       66\n",
      "6       44\n",
      "98      29\n",
      "11      26\n",
      "4       16\n",
      "3        7\n",
      "Name: D2015, dtype: int64\n",
      "---- D2016 ---\n",
      "999    10444\n",
      "522       90\n",
      "911       88\n",
      "931       61\n",
      "997       57\n",
      "       ...  \n",
      "835        1\n",
      "323        1\n",
      "315        1\n",
      "224        1\n",
      "212        1\n",
      "Name: D2016, Length: 124, dtype: int64\n",
      "---- D2017 ---\n",
      "9    10481\n",
      "1      899\n",
      "2      844\n",
      "4      122\n",
      "7       57\n",
      "3       34\n",
      "8       14\n",
      "Name: D2017, dtype: int64\n",
      "---- D2018 ---\n",
      "9    9214\n",
      "2    1757\n",
      "1     773\n",
      "5     570\n",
      "4      58\n",
      "7      34\n",
      "8      26\n",
      "3      10\n",
      "6       9\n",
      "Name: D2018, dtype: int64\n",
      "---- D2019 ---\n",
      "9    9132\n",
      "3    2125\n",
      "2     774\n",
      "1     194\n",
      "4     114\n",
      "7      58\n",
      "8      54\n",
      "Name: D2019, dtype: int64\n",
      "---- D2020 ---\n",
      "1    2228\n",
      "2    2054\n",
      "4    1964\n",
      "5    1888\n",
      "3    1759\n",
      "7    1229\n",
      "8     947\n",
      "9     382\n",
      "Name: D2020, dtype: int64\n",
      "---- D2021 ---\n",
      "4     2360\n",
      "3     2281\n",
      "2     2158\n",
      "99    1887\n",
      "5     1290\n",
      "1     1131\n",
      "6      625\n",
      "7      294\n",
      "8      172\n",
      "9       77\n",
      "10      52\n",
      "11      26\n",
      "97      26\n",
      "12      21\n",
      "0       10\n",
      "98      10\n",
      "14       8\n",
      "15       8\n",
      "13       7\n",
      "20       3\n",
      "16       3\n",
      "17       2\n",
      "Name: D2021, dtype: int64\n",
      "---- D2022 ---\n",
      "0     3697\n",
      "99    3417\n",
      "1     2321\n",
      "2     1894\n",
      "3      598\n",
      "4      266\n",
      "5       99\n",
      "6       56\n",
      "97      35\n",
      "7       23\n",
      "98      17\n",
      "8       15\n",
      "10       4\n",
      "9        4\n",
      "11       2\n",
      "17       1\n",
      "16       1\n",
      "18       1\n",
      "Name: D2022, dtype: int64\n",
      "---- D2023 ---\n",
      "0     5698\n",
      "99    4048\n",
      "1     1813\n",
      "2      651\n",
      "3      145\n",
      "4       28\n",
      "97      25\n",
      "98      18\n",
      "5       16\n",
      "6        7\n",
      "10       2\n",
      "Name: D2023, dtype: int64\n",
      "---- D2024 ---\n",
      "6    3133\n",
      "2    2569\n",
      "1    2009\n",
      "3    1730\n",
      "4    1562\n",
      "5    1104\n",
      "9     239\n",
      "7      55\n",
      "8      50\n",
      "Name: D2024, dtype: int64\n",
      "---- D2025 ---\n",
      "3    3669\n",
      "9    3137\n",
      "2    2539\n",
      "4    1629\n",
      "1    1391\n",
      "8      53\n",
      "7      33\n",
      "Name: D2025, dtype: int64\n",
      "---- D2026 ---\n",
      "1101    6615\n",
      "8300    1386\n",
      "1600     863\n",
      "1200     789\n",
      "1298     738\n",
      "1000     376\n",
      "1203     347\n",
      "1210     149\n",
      "9600     132\n",
      "1201     131\n",
      "3000      89\n",
      "3100      86\n",
      "1209      79\n",
      "1300      71\n",
      "7200      66\n",
      "1599      61\n",
      "9997      60\n",
      "1208      57\n",
      "1215      48\n",
      "7100      40\n",
      "9998      34\n",
      "1504      31\n",
      "1211      28\n",
      "1502      20\n",
      "1102      19\n",
      "2000      18\n",
      "1212      15\n",
      "9004      13\n",
      "4000      13\n",
      "9999      10\n",
      "1206      10\n",
      "1503       8\n",
      "1699       7\n",
      "8200       5\n",
      "5000       5\n",
      "9001       5\n",
      "3200       5\n",
      "1214       4\n",
      "9007       3\n",
      "9003       3\n",
      "7901       2\n",
      "9006       2\n",
      "7900       2\n",
      "1299       1\n",
      "9002       1\n",
      "1501       1\n",
      "1213       1\n",
      "9005       1\n",
      "8100       1\n",
      "Name: D2026, dtype: int64\n",
      "---- D2027 ---\n",
      "999    4823\n",
      "121    3549\n",
      "36     1843\n",
      "106     949\n",
      "222     255\n",
      "980     178\n",
      "981     118\n",
      "983      97\n",
      "984      79\n",
      "982      68\n",
      "995      61\n",
      "996      58\n",
      "989      53\n",
      "987      52\n",
      "49       49\n",
      "986      38\n",
      "221      35\n",
      "992      29\n",
      "991      27\n",
      "988      23\n",
      "32       22\n",
      "12       21\n",
      "103       9\n",
      "997       4\n",
      "990       2\n",
      "998       2\n",
      "994       2\n",
      "993       2\n",
      "134       1\n",
      "985       1\n",
      "44        1\n",
      "Name: D2027, dtype: int64\n",
      "---- D2028 ---\n",
      "4     2100\n",
      "2     1514\n",
      "99    1103\n",
      "1      864\n",
      "5      830\n",
      "6      754\n",
      "8      593\n",
      "15     549\n",
      "3      477\n",
      "12     361\n",
      "13     290\n",
      "7      281\n",
      "21     237\n",
      "18     224\n",
      "20     204\n",
      "48     183\n",
      "14     177\n",
      "9      155\n",
      "10     142\n",
      "16     117\n",
      "11     109\n",
      "17     108\n",
      "22     102\n",
      "42     101\n",
      "37      87\n",
      "36      75\n",
      "19      70\n",
      "39      65\n",
      "25      63\n",
      "45      60\n",
      "53      49\n",
      "26      45\n",
      "34      42\n",
      "35      35\n",
      "51      29\n",
      "27      29\n",
      "47      27\n",
      "55      26\n",
      "41      25\n",
      "24      20\n",
      "29      20\n",
      "40      20\n",
      "23      19\n",
      "30      11\n",
      "44      11\n",
      "49      11\n",
      "31      10\n",
      "32       9\n",
      "54       9\n",
      "28       9\n",
      "Name: D2028, dtype: int64\n",
      "---- D2029 ---\n",
      "999    5539\n",
      "1      3460\n",
      "2      1746\n",
      "3      1557\n",
      "4        62\n",
      "5        52\n",
      "998      14\n",
      "997      12\n",
      "6         9\n",
      "Name: D2029, dtype: int64\n",
      "---- D2030 ---\n",
      "999    10072\n",
      "1       1399\n",
      "4        782\n",
      "3        111\n",
      "2         68\n",
      "996       16\n",
      "997        2\n",
      "998        1\n",
      "Name: D2030, dtype: int64\n",
      "---- D2031 ---\n",
      "9    4822\n",
      "4    3671\n",
      "1    2333\n",
      "2    1290\n",
      "3     335\n",
      "Name: D2031, dtype: int64\n",
      "---- age ---\n",
      "36     300\n",
      "31     297\n",
      "33     289\n",
      "41     283\n",
      "32     283\n",
      "      ... \n",
      "95       6\n",
      "101      4\n",
      "100      2\n",
      "102      1\n",
      "103      1\n",
      "Name: age, Length: 81, dtype: int64\n",
      "---- voted ---\n",
      "True     10226\n",
      "False     2225\n",
      "Name: voted, dtype: int64\n"
     ]
    }
   ],
   "source": [
    "for c in df.columns: \n",
    "    print (\"---- %s ---\" % c)\n",
    "    print (df[c].value_counts()) "
   ]
  },
  {
   "cell_type": "markdown",
   "id": "d8b0f14a",
   "metadata": {},
   "source": [
    "1. D2002, 9=0 (Excellent percentage)\n",
    "\n",
    "2. D2003, 99=18 (Good percentage)\n",
    "\n",
    "3. D2004 9=738 (10% missing) \n",
    "\n",
    "4. D2005 9=1108 (12% missing) \n",
    " \n",
    "5. D2006 9=2206 (15% missing) \n",
    "\n",
    "5. D2007 9=7086 (Majority missing) \n",
    "\n",
    "6. D2008 9=7087 (Majority missing) \n",
    "\n",
    "7. D2009 9=7086 (Majority missing)\n",
    "\n",
    "8. D2010 99=3 (Excellent) \n",
    "\n",
    "9. D2011 999=7566 (Majority missing) \n",
    "\n",
    "10. D2012 9=6556 (Majority missing) \n",
    "\n",
    "11. D2013 9=5227 (Majority missing) \n",
    "\n",
    "12. D2014 9=5398 (Almost half of it missing) \n",
    "\n",
    "13. D2015 99=7063 (Majority missing) \n",
    "\n",
    "14. D2016 999= 10444(Huge majority missing) \n",
    "\n",
    "15. D2017 9=10481 (Huge majority missing) \n",
    "\n",
    "16. D2018 9=9214 (Huge majority missing) \n",
    "\n",
    "17. D2019 9=9132 (Huge majority missing)\n",
    "\n",
    "18. D2020 9=382 (Good percentage)\n",
    "\n",
    "19. D2021 99=1887 (Not bad)\n",
    "\n",
    "20. D2022 99=3417 (Almost half of it missing) \n",
    "\n",
    "21. D2023 99=4048 (Almost half of it missing)\n",
    "\n",
    "22. D2024 9=239 (Really good) \n",
    "\n",
    "23. D2025 9=2539 (Half of it missing) \n",
    "\n",
    "24. D2026 9=0 (Excellent)\n",
    "\n",
    "25. D2027 999=4823 (Majority missing) \n",
    "\n",
    "26. D2028 99=1103 (Almost two thirds missing) \n",
    "\n",
    "27. D2029 999=5539 (Almost half of it missing) \n",
    "\n",
    "28. D2030 999=10072 (Huge majority missing) \n",
    "\n",
    "29. D2031 9=4822 (Almost half of it missing) \n",
    "\n",
    "\n",
    "\n",
    "By looking at these approximations, intuitively, we can see that;\n",
    "\n",
    "1.D2002 (Sex), \n",
    "\n",
    "2.D2003 (Education),\n",
    "\n",
    "3.D2010 (Current Employment Status),\n",
    "\n",
    "4.D2020 (Household Income),\n",
    "\n",
    "5.D2021(Number in Household Total),\n",
    "\n",
    "6.D2024(Religious Services Attendance),\n",
    "\n",
    "are the features with the least missing values and make theoratical sense which might suggest that we might build our model on them. "
   ]
  },
  {
   "cell_type": "code",
   "execution_count": 9,
   "id": "8fffbf93",
   "metadata": {},
   "outputs": [],
   "source": [
    "X = df[['D2002', 'D2003', 'D2010', 'D2020', 'D2021','D2024','age']]\n",
    "corr_X = df[['D2002', 'D2003', 'D2010', 'D2020', 'D2021','D2024','age','voted']]\n",
    "y = df[\"voted\"]"
   ]
  },
  {
   "cell_type": "code",
   "execution_count": 10,
   "id": "59554f6c",
   "metadata": {},
   "outputs": [
    {
     "data": {
      "text/html": [
       "<div>\n",
       "<style scoped>\n",
       "    .dataframe tbody tr th:only-of-type {\n",
       "        vertical-align: middle;\n",
       "    }\n",
       "\n",
       "    .dataframe tbody tr th {\n",
       "        vertical-align: top;\n",
       "    }\n",
       "\n",
       "    .dataframe thead th {\n",
       "        text-align: right;\n",
       "    }\n",
       "</style>\n",
       "<table border=\"1\" class=\"dataframe\">\n",
       "  <thead>\n",
       "    <tr style=\"text-align: right;\">\n",
       "      <th></th>\n",
       "      <th>D2002</th>\n",
       "      <th>D2003</th>\n",
       "      <th>D2010</th>\n",
       "      <th>D2020</th>\n",
       "      <th>D2021</th>\n",
       "      <th>D2024</th>\n",
       "      <th>age</th>\n",
       "    </tr>\n",
       "  </thead>\n",
       "  <tbody>\n",
       "    <tr>\n",
       "      <th>0</th>\n",
       "      <td>1</td>\n",
       "      <td>4</td>\n",
       "      <td>1</td>\n",
       "      <td>3</td>\n",
       "      <td>3</td>\n",
       "      <td>9</td>\n",
       "      <td>31</td>\n",
       "    </tr>\n",
       "    <tr>\n",
       "      <th>1</th>\n",
       "      <td>2</td>\n",
       "      <td>3</td>\n",
       "      <td>8</td>\n",
       "      <td>1</td>\n",
       "      <td>5</td>\n",
       "      <td>6</td>\n",
       "      <td>42</td>\n",
       "    </tr>\n",
       "    <tr>\n",
       "      <th>2</th>\n",
       "      <td>2</td>\n",
       "      <td>2</td>\n",
       "      <td>7</td>\n",
       "      <td>9</td>\n",
       "      <td>3</td>\n",
       "      <td>5</td>\n",
       "      <td>67</td>\n",
       "    </tr>\n",
       "    <tr>\n",
       "      <th>3</th>\n",
       "      <td>2</td>\n",
       "      <td>4</td>\n",
       "      <td>5</td>\n",
       "      <td>9</td>\n",
       "      <td>7</td>\n",
       "      <td>9</td>\n",
       "      <td>26</td>\n",
       "    </tr>\n",
       "    <tr>\n",
       "      <th>4</th>\n",
       "      <td>1</td>\n",
       "      <td>6</td>\n",
       "      <td>1</td>\n",
       "      <td>5</td>\n",
       "      <td>2</td>\n",
       "      <td>1</td>\n",
       "      <td>55</td>\n",
       "    </tr>\n",
       "    <tr>\n",
       "      <th>...</th>\n",
       "      <td>...</td>\n",
       "      <td>...</td>\n",
       "      <td>...</td>\n",
       "      <td>...</td>\n",
       "      <td>...</td>\n",
       "      <td>...</td>\n",
       "      <td>...</td>\n",
       "    </tr>\n",
       "    <tr>\n",
       "      <th>12446</th>\n",
       "      <td>2</td>\n",
       "      <td>4</td>\n",
       "      <td>1</td>\n",
       "      <td>2</td>\n",
       "      <td>99</td>\n",
       "      <td>1</td>\n",
       "      <td>62</td>\n",
       "    </tr>\n",
       "    <tr>\n",
       "      <th>12447</th>\n",
       "      <td>1</td>\n",
       "      <td>3</td>\n",
       "      <td>9</td>\n",
       "      <td>1</td>\n",
       "      <td>99</td>\n",
       "      <td>1</td>\n",
       "      <td>65</td>\n",
       "    </tr>\n",
       "    <tr>\n",
       "      <th>12448</th>\n",
       "      <td>2</td>\n",
       "      <td>6</td>\n",
       "      <td>1</td>\n",
       "      <td>3</td>\n",
       "      <td>99</td>\n",
       "      <td>4</td>\n",
       "      <td>61</td>\n",
       "    </tr>\n",
       "    <tr>\n",
       "      <th>12449</th>\n",
       "      <td>2</td>\n",
       "      <td>7</td>\n",
       "      <td>1</td>\n",
       "      <td>4</td>\n",
       "      <td>99</td>\n",
       "      <td>6</td>\n",
       "      <td>53</td>\n",
       "    </tr>\n",
       "    <tr>\n",
       "      <th>12450</th>\n",
       "      <td>1</td>\n",
       "      <td>4</td>\n",
       "      <td>2</td>\n",
       "      <td>2</td>\n",
       "      <td>99</td>\n",
       "      <td>1</td>\n",
       "      <td>73</td>\n",
       "    </tr>\n",
       "  </tbody>\n",
       "</table>\n",
       "<p>12451 rows × 7 columns</p>\n",
       "</div>"
      ],
      "text/plain": [
       "       D2002  D2003  D2010  D2020  D2021  D2024  age\n",
       "0          1      4      1      3      3      9   31\n",
       "1          2      3      8      1      5      6   42\n",
       "2          2      2      7      9      3      5   67\n",
       "3          2      4      5      9      7      9   26\n",
       "4          1      6      1      5      2      1   55\n",
       "...      ...    ...    ...    ...    ...    ...  ...\n",
       "12446      2      4      1      2     99      1   62\n",
       "12447      1      3      9      1     99      1   65\n",
       "12448      2      6      1      3     99      4   61\n",
       "12449      2      7      1      4     99      6   53\n",
       "12450      1      4      2      2     99      1   73\n",
       "\n",
       "[12451 rows x 7 columns]"
      ]
     },
     "execution_count": 10,
     "metadata": {},
     "output_type": "execute_result"
    }
   ],
   "source": [
    "X"
   ]
  },
  {
   "cell_type": "markdown",
   "id": "6bbd4920",
   "metadata": {},
   "source": [
    "# Imputing the missing values "
   ]
  },
  {
   "cell_type": "markdown",
   "id": "e3019601",
   "metadata": {},
   "source": [
    "Imputing the missing values with the most frequent values in the column. "
   ]
  },
  {
   "cell_type": "code",
   "execution_count": 11,
   "id": "82b79271",
   "metadata": {},
   "outputs": [],
   "source": [
    "imp_freq_9 = SimpleImputer(missing_values=9, strategy=\"most_frequent\")\n",
    "imp_freq_99 = SimpleImputer(missing_values=99, strategy=\"most_frequent\")"
   ]
  },
  {
   "cell_type": "code",
   "execution_count": 12,
   "id": "5dddbb7f",
   "metadata": {
    "scrolled": true
   },
   "outputs": [],
   "source": [
    "d2003imp = imp_freq_99.fit_transform(X[\"D2003\"].to_numpy().reshape(-1,1))\n",
    "d2024imp = imp_freq_9.fit_transform(X[\"D2024\"].to_numpy().reshape(-1,1))\n",
    "d2010imp = imp_freq_99.fit_transform(X[\"D2010\"].to_numpy().reshape(-1,1))\n",
    "d2021imp = imp_freq_99.fit_transform(X[\"D2021\"].to_numpy().reshape(-1,1))\n",
    "d2020imp = imp_freq_9.fit_transform(X[\"D2020\"].to_numpy().reshape(-1,1));"
   ]
  },
  {
   "cell_type": "code",
   "execution_count": 13,
   "id": "6cabf61f",
   "metadata": {},
   "outputs": [
    {
     "name": "stderr",
     "output_type": "stream",
     "text": [
      "<ipython-input-13-d64b23eccb3c>:1: SettingWithCopyWarning: \n",
      "A value is trying to be set on a copy of a slice from a DataFrame.\n",
      "Try using .loc[row_indexer,col_indexer] = value instead\n",
      "\n",
      "See the caveats in the documentation: https://pandas.pydata.org/pandas-docs/stable/user_guide/indexing.html#returning-a-view-versus-a-copy\n",
      "  X[\"D2024\"] = d2024imp\n",
      "<ipython-input-13-d64b23eccb3c>:2: SettingWithCopyWarning: \n",
      "A value is trying to be set on a copy of a slice from a DataFrame.\n",
      "Try using .loc[row_indexer,col_indexer] = value instead\n",
      "\n",
      "See the caveats in the documentation: https://pandas.pydata.org/pandas-docs/stable/user_guide/indexing.html#returning-a-view-versus-a-copy\n",
      "  X[\"D2003\"] = d2003imp\n",
      "<ipython-input-13-d64b23eccb3c>:3: SettingWithCopyWarning: \n",
      "A value is trying to be set on a copy of a slice from a DataFrame.\n",
      "Try using .loc[row_indexer,col_indexer] = value instead\n",
      "\n",
      "See the caveats in the documentation: https://pandas.pydata.org/pandas-docs/stable/user_guide/indexing.html#returning-a-view-versus-a-copy\n",
      "  X[\"D2010\"] = d2010imp\n",
      "<ipython-input-13-d64b23eccb3c>:4: SettingWithCopyWarning: \n",
      "A value is trying to be set on a copy of a slice from a DataFrame.\n",
      "Try using .loc[row_indexer,col_indexer] = value instead\n",
      "\n",
      "See the caveats in the documentation: https://pandas.pydata.org/pandas-docs/stable/user_guide/indexing.html#returning-a-view-versus-a-copy\n",
      "  X[\"D2020\"] = d2020imp\n",
      "<ipython-input-13-d64b23eccb3c>:5: SettingWithCopyWarning: \n",
      "A value is trying to be set on a copy of a slice from a DataFrame.\n",
      "Try using .loc[row_indexer,col_indexer] = value instead\n",
      "\n",
      "See the caveats in the documentation: https://pandas.pydata.org/pandas-docs/stable/user_guide/indexing.html#returning-a-view-versus-a-copy\n",
      "  X[\"D2021\"] = d2021imp\n",
      "<ipython-input-13-d64b23eccb3c>:6: SettingWithCopyWarning: \n",
      "A value is trying to be set on a copy of a slice from a DataFrame.\n",
      "Try using .loc[row_indexer,col_indexer] = value instead\n",
      "\n",
      "See the caveats in the documentation: https://pandas.pydata.org/pandas-docs/stable/user_guide/indexing.html#returning-a-view-versus-a-copy\n",
      "  corr_X[\"D2024\"] = d2024imp\n",
      "<ipython-input-13-d64b23eccb3c>:7: SettingWithCopyWarning: \n",
      "A value is trying to be set on a copy of a slice from a DataFrame.\n",
      "Try using .loc[row_indexer,col_indexer] = value instead\n",
      "\n",
      "See the caveats in the documentation: https://pandas.pydata.org/pandas-docs/stable/user_guide/indexing.html#returning-a-view-versus-a-copy\n",
      "  corr_X[\"D2003\"] = d2003imp\n",
      "<ipython-input-13-d64b23eccb3c>:8: SettingWithCopyWarning: \n",
      "A value is trying to be set on a copy of a slice from a DataFrame.\n",
      "Try using .loc[row_indexer,col_indexer] = value instead\n",
      "\n",
      "See the caveats in the documentation: https://pandas.pydata.org/pandas-docs/stable/user_guide/indexing.html#returning-a-view-versus-a-copy\n",
      "  corr_X[\"D2010\"] = d2010imp\n",
      "<ipython-input-13-d64b23eccb3c>:9: SettingWithCopyWarning: \n",
      "A value is trying to be set on a copy of a slice from a DataFrame.\n",
      "Try using .loc[row_indexer,col_indexer] = value instead\n",
      "\n",
      "See the caveats in the documentation: https://pandas.pydata.org/pandas-docs/stable/user_guide/indexing.html#returning-a-view-versus-a-copy\n",
      "  corr_X[\"D2020\"] = d2020imp\n",
      "<ipython-input-13-d64b23eccb3c>:10: SettingWithCopyWarning: \n",
      "A value is trying to be set on a copy of a slice from a DataFrame.\n",
      "Try using .loc[row_indexer,col_indexer] = value instead\n",
      "\n",
      "See the caveats in the documentation: https://pandas.pydata.org/pandas-docs/stable/user_guide/indexing.html#returning-a-view-versus-a-copy\n",
      "  corr_X[\"D2021\"] = d2021imp\n"
     ]
    }
   ],
   "source": [
    "X[\"D2024\"] = d2024imp\n",
    "X[\"D2003\"] = d2003imp\n",
    "X[\"D2010\"] = d2010imp\n",
    "X[\"D2020\"] = d2020imp\n",
    "X[\"D2021\"] = d2021imp\n",
    "corr_X[\"D2024\"] = d2024imp\n",
    "corr_X[\"D2003\"] = d2003imp\n",
    "corr_X[\"D2010\"] = d2010imp\n",
    "corr_X[\"D2020\"] = d2020imp\n",
    "corr_X[\"D2021\"] = d2021imp"
   ]
  },
  {
   "cell_type": "code",
   "execution_count": 14,
   "id": "f1480a7e",
   "metadata": {},
   "outputs": [
    {
     "data": {
      "text/plain": [
       "6    3372\n",
       "2    2569\n",
       "1    2009\n",
       "3    1730\n",
       "4    1562\n",
       "5    1104\n",
       "7      55\n",
       "8      50\n",
       "Name: D2024, dtype: int64"
      ]
     },
     "execution_count": 14,
     "metadata": {},
     "output_type": "execute_result"
    }
   ],
   "source": [
    "X[\"D2024\"].value_counts() #checking...notice there are no 9's (the missing value)"
   ]
  },
  {
   "cell_type": "code",
   "execution_count": 15,
   "id": "4a542e42",
   "metadata": {},
   "outputs": [
    {
     "data": {
      "text/plain": [
       "D2002   -0.003137\n",
       "D2003    0.025623\n",
       "D2010   -0.026797\n",
       "D2020    0.004726\n",
       "D2021   -0.037548\n",
       "D2024    0.032967\n",
       "age      0.256741\n",
       "voted    1.000000\n",
       "Name: voted, dtype: float64"
      ]
     },
     "execution_count": 15,
     "metadata": {},
     "output_type": "execute_result"
    }
   ],
   "source": [
    "corr_X.corr().loc['voted'] #the correlations of the features to the voting behavior. "
   ]
  },
  {
   "cell_type": "markdown",
   "id": "f54f5cde",
   "metadata": {},
   "source": [
    "# One-Hot Coding"
   ]
  },
  {
   "cell_type": "code",
   "execution_count": 16,
   "id": "302cacc8",
   "metadata": {},
   "outputs": [],
   "source": [
    "voted = pd.get_dummies(y,prefix=\"Voted\",drop_first=True)"
   ]
  },
  {
   "cell_type": "code",
   "execution_count": 17,
   "id": "1196b4bb",
   "metadata": {},
   "outputs": [],
   "source": [
    "xdum = pd.get_dummies(data=X, columns= ['D2002', 'D2003', 'D2010', 'D2020', 'D2021','D2024'],drop_first=True)"
   ]
  },
  {
   "cell_type": "code",
   "execution_count": 18,
   "id": "342fdfbc",
   "metadata": {},
   "outputs": [],
   "source": [
    "data =  pd.concat([xdum,voted], axis=1)"
   ]
  },
  {
   "cell_type": "markdown",
   "id": "a19d30c4",
   "metadata": {},
   "source": [
    "# Train-test split "
   ]
  },
  {
   "cell_type": "code",
   "execution_count": 19,
   "id": "e7a44075",
   "metadata": {},
   "outputs": [],
   "source": [
    "X = data.iloc[:,:-1]\n",
    "y = data[\"Voted_True\"]"
   ]
  },
  {
   "cell_type": "code",
   "execution_count": 20,
   "id": "11266a30",
   "metadata": {},
   "outputs": [],
   "source": [
    "Xtrain, Xtest, ytrain, ytest = train_test_split(X, y, test_size=0.33, random_state=1)"
   ]
  },
  {
   "cell_type": "markdown",
   "id": "bd24cc8f",
   "metadata": {},
   "source": [
    "# Classifier Algorithms"
   ]
  },
  {
   "cell_type": "markdown",
   "id": "eb30823a",
   "metadata": {},
   "source": [
    "Trying out many algorithms to find the best fit. "
   ]
  },
  {
   "cell_type": "markdown",
   "id": "1c098627",
   "metadata": {},
   "source": [
    "## GaussianNB Classifier"
   ]
  },
  {
   "cell_type": "code",
   "execution_count": 21,
   "id": "49cb8698",
   "metadata": {},
   "outputs": [],
   "source": [
    "model = GaussianNB()\n",
    "model.fit(Xtrain, ytrain) \n",
    "predictGNB = model.predict(Xtest)"
   ]
  },
  {
   "cell_type": "code",
   "execution_count": 22,
   "id": "d595a5fe",
   "metadata": {},
   "outputs": [
    {
     "data": {
      "text/plain": [
       "0.6081771720613288"
      ]
     },
     "execution_count": 22,
     "metadata": {},
     "output_type": "execute_result"
    }
   ],
   "source": [
    "accuracy_score(ytest,predictGNB) "
   ]
  },
  {
   "cell_type": "code",
   "execution_count": 23,
   "id": "47bee9d4",
   "metadata": {},
   "outputs": [
    {
     "name": "stdout",
     "output_type": "stream",
     "text": [
      "[[ 494  248]\n",
      " [1362 2005]]\n",
      "\n",
      "\n",
      "              precision    recall  f1-score   support\n",
      "\n",
      "           0       0.27      0.67      0.38       742\n",
      "           1       0.89      0.60      0.71      3367\n",
      "\n",
      "    accuracy                           0.61      4109\n",
      "   macro avg       0.58      0.63      0.55      4109\n",
      "weighted avg       0.78      0.61      0.65      4109\n",
      "\n"
     ]
    }
   ],
   "source": [
    "print(confusion_matrix(ytest,predictGNB)) #printing out the confusion matrix and the classification report for Gaussian Naive Bayes \n",
    "print(\"\\n\")\n",
    "print(classification_report(ytest,predictGNB))"
   ]
  },
  {
   "cell_type": "code",
   "execution_count": 24,
   "id": "33198608",
   "metadata": {},
   "outputs": [
    {
     "data": {
      "image/png": "[encoded data removed]",
      "text/plain": [
       "<Figure size 432x288 with 1 Axes>"
      ]
     },
     "metadata": {
      "needs_background": "light"
     },
     "output_type": "display_data"
    }
   ],
   "source": [
    "np.set_printoptions(suppress=True) \n",
    "matNB = confusion_matrix(ytest, predictGNB) \n",
    "sns.heatmap(matNB, square=True, annot=True, cbar=False,fmt=\"g\"); #Visualizing the GNB Confusion Matrix\n",
    "plt.xlabel('Predicted value');\n",
    "plt.ylabel('True value');"
   ]
  },
  {
   "cell_type": "code",
   "execution_count": 25,
   "id": "11839a4e",
   "metadata": {},
   "outputs": [
    {
     "data": {
      "text/plain": [
       "0.4660757199814916"
      ]
     },
     "execution_count": 25,
     "metadata": {},
     "output_type": "execute_result"
    }
   ],
   "source": [
    "from sklearn.model_selection import cross_val_score #GNB cross-validation score \n",
    "np.mean(cross_val_score(model, X, y, cv=5))  "
   ]
  },
  {
   "cell_type": "markdown",
   "id": "a421bcd2",
   "metadata": {},
   "source": [
    "### Leave One Out "
   ]
  },
  {
   "cell_type": "code",
   "execution_count": null,
   "id": "0ea65cee",
   "metadata": {},
   "outputs": [],
   "source": [
    "from sklearn.model_selection import LeaveOneOut\n",
    "scores = cross_val_score(model, X, y, cv=LeaveOneOut()) #loo\n",
    "scores\n",
    "scores.mean()"
   ]
  },
  {
   "cell_type": "markdown",
   "id": "5119da48",
   "metadata": {},
   "source": [
    "## Logistic Regression "
   ]
  },
  {
   "cell_type": "code",
   "execution_count": 27,
   "id": "696ab054",
   "metadata": {},
   "outputs": [
    {
     "name": "stderr",
     "output_type": "stream",
     "text": [
      "/opt/anaconda3/lib/python3.8/site-packages/sklearn/linear_model/_logistic.py:763: ConvergenceWarning: lbfgs failed to converge (status=1):\n",
      "STOP: TOTAL NO. of ITERATIONS REACHED LIMIT.\n",
      "\n",
      "Increase the number of iterations (max_iter) or scale the data as shown in:\n",
      "    https://scikit-learn.org/stable/modules/preprocessing.html\n",
      "Please also refer to the documentation for alternative solver options:\n",
      "    https://scikit-learn.org/stable/modules/linear_model.html#logistic-regression\n",
      "  n_iter_i = _check_optimize_result(\n"
     ]
    }
   ],
   "source": [
    "from sklearn.linear_model import LogisticRegression\n",
    "lr = LogisticRegression()\n",
    "lr.fit(Xtrain,ytrain)\n",
    "predictLR = lr.predict(Xtest)"
   ]
  },
  {
   "cell_type": "code",
   "execution_count": 28,
   "id": "c58c2352",
   "metadata": {
    "scrolled": true
   },
   "outputs": [
    {
     "data": {
      "text/plain": [
       "0.8291555122900949"
      ]
     },
     "execution_count": 28,
     "metadata": {},
     "output_type": "execute_result"
    }
   ],
   "source": [
    "accuracy_score(ytest,predictLR) "
   ]
  },
  {
   "cell_type": "code",
   "execution_count": 29,
   "id": "4d6472f8",
   "metadata": {
    "scrolled": false
   },
   "outputs": [
    {
     "name": "stdout",
     "output_type": "stream",
     "text": [
      "[[ 109  633]\n",
      " [  69 3298]]\n",
      "\n",
      "\n",
      "              precision    recall  f1-score   support\n",
      "\n",
      "           0       0.61      0.15      0.24       742\n",
      "           1       0.84      0.98      0.90      3367\n",
      "\n",
      "    accuracy                           0.83      4109\n",
      "   macro avg       0.73      0.56      0.57      4109\n",
      "weighted avg       0.80      0.83      0.78      4109\n",
      "\n"
     ]
    }
   ],
   "source": [
    "print(confusion_matrix(ytest,predictLR))\n",
    "print(\"\\n\")\n",
    "print(classification_report(ytest,predictLR)) #Logistic Regression confusion matrix and classification report"
   ]
  },
  {
   "cell_type": "code",
   "execution_count": 30,
   "id": "f62dcc9e",
   "metadata": {},
   "outputs": [
    {
     "data": {
      "image/png": "[encoded data removed]",
      "text/plain": [
       "<Figure size 432x288 with 1 Axes>"
      ]
     },
     "metadata": {
      "needs_background": "light"
     },
     "output_type": "display_data"
    }
   ],
   "source": [
    "np.set_printoptions(suppress=True) \n",
    "matLR = confusion_matrix(ytest, predictLR)\n",
    "sns.heatmap(matLR, square=True, annot=True, cbar=False,fmt=\"g\"); #visualizing the Logistic Regression confusion matrix \n",
    "plt.xlabel('Predicted value');\n",
    "plt.ylabel('True value');"
   ]
  },
  {
   "cell_type": "code",
   "execution_count": 31,
   "id": "c5491d8c",
   "metadata": {},
   "outputs": [
    {
     "name": "stderr",
     "output_type": "stream",
     "text": [
      "/opt/anaconda3/lib/python3.8/site-packages/sklearn/linear_model/_logistic.py:763: ConvergenceWarning: lbfgs failed to converge (status=1):\n",
      "STOP: TOTAL NO. of ITERATIONS REACHED LIMIT.\n",
      "\n",
      "Increase the number of iterations (max_iter) or scale the data as shown in:\n",
      "    https://scikit-learn.org/stable/modules/preprocessing.html\n",
      "Please also refer to the documentation for alternative solver options:\n",
      "    https://scikit-learn.org/stable/modules/linear_model.html#logistic-regression\n",
      "  n_iter_i = _check_optimize_result(\n",
      "/opt/anaconda3/lib/python3.8/site-packages/sklearn/linear_model/_logistic.py:763: ConvergenceWarning: lbfgs failed to converge (status=1):\n",
      "STOP: TOTAL NO. of ITERATIONS REACHED LIMIT.\n",
      "\n",
      "Increase the number of iterations (max_iter) or scale the data as shown in:\n",
      "    https://scikit-learn.org/stable/modules/preprocessing.html\n",
      "Please also refer to the documentation for alternative solver options:\n",
      "    https://scikit-learn.org/stable/modules/linear_model.html#logistic-regression\n",
      "  n_iter_i = _check_optimize_result(\n",
      "/opt/anaconda3/lib/python3.8/site-packages/sklearn/linear_model/_logistic.py:763: ConvergenceWarning: lbfgs failed to converge (status=1):\n",
      "STOP: TOTAL NO. of ITERATIONS REACHED LIMIT.\n",
      "\n",
      "Increase the number of iterations (max_iter) or scale the data as shown in:\n",
      "    https://scikit-learn.org/stable/modules/preprocessing.html\n",
      "Please also refer to the documentation for alternative solver options:\n",
      "    https://scikit-learn.org/stable/modules/linear_model.html#logistic-regression\n",
      "  n_iter_i = _check_optimize_result(\n",
      "/opt/anaconda3/lib/python3.8/site-packages/sklearn/linear_model/_logistic.py:763: ConvergenceWarning: lbfgs failed to converge (status=1):\n",
      "STOP: TOTAL NO. of ITERATIONS REACHED LIMIT.\n",
      "\n",
      "Increase the number of iterations (max_iter) or scale the data as shown in:\n",
      "    https://scikit-learn.org/stable/modules/preprocessing.html\n",
      "Please also refer to the documentation for alternative solver options:\n",
      "    https://scikit-learn.org/stable/modules/linear_model.html#logistic-regression\n",
      "  n_iter_i = _check_optimize_result(\n",
      "/opt/anaconda3/lib/python3.8/site-packages/sklearn/linear_model/_logistic.py:763: ConvergenceWarning: lbfgs failed to converge (status=1):\n",
      "STOP: TOTAL NO. of ITERATIONS REACHED LIMIT.\n",
      "\n",
      "Increase the number of iterations (max_iter) or scale the data as shown in:\n",
      "    https://scikit-learn.org/stable/modules/preprocessing.html\n",
      "Please also refer to the documentation for alternative solver options:\n",
      "    https://scikit-learn.org/stable/modules/linear_model.html#logistic-regression\n",
      "  n_iter_i = _check_optimize_result(\n"
     ]
    },
    {
     "data": {
      "text/plain": [
       "0.8309368183291174"
      ]
     },
     "execution_count": 31,
     "metadata": {},
     "output_type": "execute_result"
    }
   ],
   "source": [
    "from sklearn.model_selection import cross_val_score \n",
    "np.mean(cross_val_score(lr, X, y, cv=5))  #Logistic Regression cross-validation score  "
   ]
  },
  {
   "cell_type": "markdown",
   "id": "6f994066",
   "metadata": {},
   "source": [
    "## KNeighbors Classifier"
   ]
  },
  {
   "cell_type": "code",
   "execution_count": 32,
   "id": "2dafd05d",
   "metadata": {},
   "outputs": [],
   "source": [
    "from sklearn.neighbors import KNeighborsClassifier\n",
    "model = KNeighborsClassifier(n_neighbors=7)\n",
    "model.fit(Xtrain, ytrain) \n",
    "predictKN = model.predict(Xtest)"
   ]
  },
  {
   "cell_type": "code",
   "execution_count": 33,
   "id": "e1248a83",
   "metadata": {},
   "outputs": [
    {
     "data": {
      "text/plain": [
       "0.8366999269895352"
      ]
     },
     "execution_count": 33,
     "metadata": {},
     "output_type": "execute_result"
    }
   ],
   "source": [
    "accuracy_score(ytest, predictKN)"
   ]
  },
  {
   "cell_type": "code",
   "execution_count": 34,
   "id": "ee7a3dc4",
   "metadata": {},
   "outputs": [
    {
     "data": {
      "image/png": "[encoded data removed]",
      "text/plain": [
       "<Figure size 432x288 with 1 Axes>"
      ]
     },
     "metadata": {
      "needs_background": "light"
     },
     "output_type": "display_data"
    }
   ],
   "source": [
    "np.set_printoptions(suppress=True)  \n",
    "matKN = confusion_matrix(ytest, predictKN) #visualizing the KNeighbors confusion matrix\n",
    "sns.heatmap(matKN, square=True, annot=True, cbar=False,fmt=\"g\");\n",
    "plt.xlabel('Predicted value');\n",
    "plt.ylabel('True value');"
   ]
  },
  {
   "cell_type": "code",
   "execution_count": 35,
   "id": "1c7db3bb",
   "metadata": {},
   "outputs": [
    {
     "name": "stdout",
     "output_type": "stream",
     "text": [
      "[[ 216  526]\n",
      " [ 145 3222]]\n",
      "\n",
      "\n",
      "              precision    recall  f1-score   support\n",
      "\n",
      "           0       0.60      0.29      0.39       742\n",
      "           1       0.86      0.96      0.91      3367\n",
      "\n",
      "    accuracy                           0.84      4109\n",
      "   macro avg       0.73      0.62      0.65      4109\n",
      "weighted avg       0.81      0.84      0.81      4109\n",
      "\n"
     ]
    }
   ],
   "source": [
    "print(confusion_matrix(ytest,predictKN))\n",
    "print(\"\\n\")\n",
    "print(classification_report(ytest,predictKN)) #KNeighbors confusion matrix and classification report "
   ]
  },
  {
   "cell_type": "markdown",
   "id": "4bfac695",
   "metadata": {},
   "source": [
    "## Random Forest Classifier"
   ]
  },
  {
   "cell_type": "code",
   "execution_count": 36,
   "id": "c5414c1e",
   "metadata": {},
   "outputs": [],
   "source": [
    "from sklearn.ensemble import RandomForestClassifier\n",
    "model = RandomForestClassifier(n_estimators=100, random_state=0)\n",
    "model.fit(Xtrain, ytrain)\n",
    "predictRF = model.predict(Xtest)"
   ]
  },
  {
   "cell_type": "code",
   "execution_count": 37,
   "id": "5b186169",
   "metadata": {},
   "outputs": [
    {
     "data": {
      "text/plain": [
       "0.8332927719639815"
      ]
     },
     "execution_count": 37,
     "metadata": {},
     "output_type": "execute_result"
    }
   ],
   "source": [
    "accuracy_score(ytest,predictRF)"
   ]
  },
  {
   "cell_type": "code",
   "execution_count": 38,
   "id": "e973ae35",
   "metadata": {
    "scrolled": true
   },
   "outputs": [
    {
     "data": {
      "text/plain": [
       "0.8164789225146268"
      ]
     },
     "execution_count": 38,
     "metadata": {},
     "output_type": "execute_result"
    }
   ],
   "source": [
    "np.mean(cross_val_score(model, X, y, cv=5))"
   ]
  },
  {
   "cell_type": "code",
   "execution_count": 39,
   "id": "4237d921",
   "metadata": {},
   "outputs": [
    {
     "name": "stdout",
     "output_type": "stream",
     "text": [
      "[[ 235  507]\n",
      " [ 178 3189]]\n",
      "\n",
      "\n",
      "              precision    recall  f1-score   support\n",
      "\n",
      "           0       0.57      0.32      0.41       742\n",
      "           1       0.86      0.95      0.90      3367\n",
      "\n",
      "    accuracy                           0.83      4109\n",
      "   macro avg       0.72      0.63      0.65      4109\n",
      "weighted avg       0.81      0.83      0.81      4109\n",
      "\n"
     ]
    }
   ],
   "source": [
    "print(confusion_matrix(ytest,predictRF))\n",
    "print(\"\\n\")\n",
    "print(classification_report(ytest,predictRF)) #Random Forest confusion matrix and classification report"
   ]
  },
  {
   "cell_type": "markdown",
   "id": "67ed173e",
   "metadata": {},
   "source": [
    "## Support Vector Machine"
   ]
  },
  {
   "cell_type": "code",
   "execution_count": 40,
   "id": "7fd3e1af",
   "metadata": {},
   "outputs": [],
   "source": [
    "from sklearn.svm import SVC"
   ]
  },
  {
   "cell_type": "code",
   "execution_count": 41,
   "id": "3fede9aa",
   "metadata": {},
   "outputs": [],
   "source": [
    "model = SVC()\n",
    "model.fit(Xtrain,ytrain)\n",
    "predictSVC = model.predict(Xtest)"
   ]
  },
  {
   "cell_type": "code",
   "execution_count": 42,
   "id": "2d5b627e",
   "metadata": {},
   "outputs": [
    {
     "data": {
      "text/plain": [
       "0.8194207836456558"
      ]
     },
     "execution_count": 42,
     "metadata": {},
     "output_type": "execute_result"
    }
   ],
   "source": [
    "accuracy_score(ytest,predictSVC)"
   ]
  },
  {
   "cell_type": "code",
   "execution_count": 43,
   "id": "506e2d17",
   "metadata": {
    "scrolled": false
   },
   "outputs": [
    {
     "name": "stdout",
     "output_type": "stream",
     "text": [
      "[[   0  742]\n",
      " [   0 3367]]\n",
      "\n",
      "\n",
      "              precision    recall  f1-score   support\n",
      "\n",
      "           0       0.00      0.00      0.00       742\n",
      "           1       0.82      1.00      0.90      3367\n",
      "\n",
      "    accuracy                           0.82      4109\n",
      "   macro avg       0.41      0.50      0.45      4109\n",
      "weighted avg       0.67      0.82      0.74      4109\n",
      "\n"
     ]
    },
    {
     "name": "stderr",
     "output_type": "stream",
     "text": [
      "/opt/anaconda3/lib/python3.8/site-packages/sklearn/metrics/_classification.py:1245: UndefinedMetricWarning: Precision and F-score are ill-defined and being set to 0.0 in labels with no predicted samples. Use `zero_division` parameter to control this behavior.\n",
      "  _warn_prf(average, modifier, msg_start, len(result))\n",
      "/opt/anaconda3/lib/python3.8/site-packages/sklearn/metrics/_classification.py:1245: UndefinedMetricWarning: Precision and F-score are ill-defined and being set to 0.0 in labels with no predicted samples. Use `zero_division` parameter to control this behavior.\n",
      "  _warn_prf(average, modifier, msg_start, len(result))\n",
      "/opt/anaconda3/lib/python3.8/site-packages/sklearn/metrics/_classification.py:1245: UndefinedMetricWarning: Precision and F-score are ill-defined and being set to 0.0 in labels with no predicted samples. Use `zero_division` parameter to control this behavior.\n",
      "  _warn_prf(average, modifier, msg_start, len(result))\n"
     ]
    }
   ],
   "source": [
    "print(confusion_matrix(ytest,predictSVC))\n",
    "print(\"\\n\")\n",
    "print(classification_report(ytest,predictSVC)) #Seems really problematic in predicting the false voting results. "
   ]
  },
  {
   "cell_type": "markdown",
   "id": "6c4b436e",
   "metadata": {},
   "source": [
    "# Model Tuning "
   ]
  },
  {
   "cell_type": "markdown",
   "id": "41589fe2",
   "metadata": {},
   "source": [
    "Here we can see that our models are predicting 1s disproportionately. The reason for that might be because the model parameters need adjusting or the model doesn't have enough False voting data to learn to classify them correctly.  We will be doing the tuning via the GridSearchCV."
   ]
  },
  {
   "cell_type": "markdown",
   "id": "e1db805e",
   "metadata": {},
   "source": [
    "## Grid Search "
   ]
  },
  {
   "cell_type": "markdown",
   "id": "d37e6c42",
   "metadata": {},
   "source": [
    "### Tuning the SVC model"
   ]
  },
  {
   "cell_type": "code",
   "execution_count": 47,
   "id": "40571adf",
   "metadata": {},
   "outputs": [],
   "source": [
    "from sklearn.model_selection import GridSearchCV"
   ]
  },
  {
   "cell_type": "raw",
   "id": "e03e7750",
   "metadata": {},
   "source": [
    "SVC #tab + shift to explore the model parameters. \n",
    "\n",
    "SVC(\n",
    "    *,\n",
    "    C=1.0, #Large C value gives you low bias but high variance.You penalize the cost of missclassification with a large C value. Smaller C value gives you high bias and low variance. \n",
    "    kernel='rbf',#Default\n",
    "    degree=3,\n",
    "    gamma='scale', #A small gamma high bias and low variance in the model. \n",
    "    coef0=0.0,\n",
    "    shrinking=True,\n",
    "    probability=False,\n",
    "    tol=0.001,\n",
    "    cache_size=200,\n",
    "    class_weight=None,\n",
    "    verbose=False,\n",
    "    max_iter=-1,\n",
    "    decision_function_shape='ovr',\n",
    "    break_ties=False,\n",
    "    random_state=None,\n",
    ")"
   ]
  },
  {
   "cell_type": "code",
   "execution_count": 48,
   "id": "7a4d05d8",
   "metadata": {},
   "outputs": [],
   "source": [
    "param_grid = {\"C\":[0.1,1,10,100,1000], \"gamma\":[1,0.1,0.01,0.001,0.0001],'kernel': ['rbf']} \n",
    "#This is the grid I will feed to the GridSearchCV which contains the parameters to tune "
   ]
  },
  {
   "cell_type": "code",
   "execution_count": 49,
   "id": "68a3f06d",
   "metadata": {},
   "outputs": [
    {
     "name": "stdout",
     "output_type": "stream",
     "text": [
      "Fitting 5 folds for each of 25 candidates, totalling 125 fits\n",
      "[CV 1/5] END .....................C=0.1, gamma=1, kernel=rbf; total time=   7.1s\n",
      "[CV 2/5] END .....................C=0.1, gamma=1, kernel=rbf; total time=   7.6s\n",
      "[CV 3/5] END .....................C=0.1, gamma=1, kernel=rbf; total time=   6.7s\n",
      "[CV 4/5] END .....................C=0.1, gamma=1, kernel=rbf; total time=   6.8s\n",
      "[CV 5/5] END .....................C=0.1, gamma=1, kernel=rbf; total time=   6.7s\n",
      "[CV 1/5] END ...................C=0.1, gamma=0.1, kernel=rbf; total time=   4.9s\n",
      "[CV 2/5] END ...................C=0.1, gamma=0.1, kernel=rbf; total time=   4.7s\n",
      "[CV 3/5] END ...................C=0.1, gamma=0.1, kernel=rbf; total time=   4.3s\n",
      "[CV 4/5] END ...................C=0.1, gamma=0.1, kernel=rbf; total time=   4.0s\n",
      "[CV 5/5] END ...................C=0.1, gamma=0.1, kernel=rbf; total time=   4.1s\n",
      "[CV 1/5] END ..................C=0.1, gamma=0.01, kernel=rbf; total time=   2.9s\n",
      "[CV 2/5] END ..................C=0.1, gamma=0.01, kernel=rbf; total time=   2.9s\n",
      "[CV 3/5] END ..................C=0.1, gamma=0.01, kernel=rbf; total time=   3.1s\n",
      "[CV 4/5] END ..................C=0.1, gamma=0.01, kernel=rbf; total time=   2.9s\n",
      "[CV 5/5] END ..................C=0.1, gamma=0.01, kernel=rbf; total time=   3.0s\n",
      "[CV 1/5] END .................C=0.1, gamma=0.001, kernel=rbf; total time=   2.9s\n",
      "[CV 2/5] END .................C=0.1, gamma=0.001, kernel=rbf; total time=   2.8s\n",
      "[CV 3/5] END .................C=0.1, gamma=0.001, kernel=rbf; total time=   2.8s\n",
      "[CV 4/5] END .................C=0.1, gamma=0.001, kernel=rbf; total time=   2.7s\n",
      "[CV 5/5] END .................C=0.1, gamma=0.001, kernel=rbf; total time=   3.0s\n",
      "[CV 1/5] END ................C=0.1, gamma=0.0001, kernel=rbf; total time=   2.4s\n",
      "[CV 2/5] END ................C=0.1, gamma=0.0001, kernel=rbf; total time=   2.6s\n",
      "[CV 3/5] END ................C=0.1, gamma=0.0001, kernel=rbf; total time=   2.6s\n",
      "[CV 4/5] END ................C=0.1, gamma=0.0001, kernel=rbf; total time=   2.6s\n",
      "[CV 5/5] END ................C=0.1, gamma=0.0001, kernel=rbf; total time=   2.5s\n",
      "[CV 1/5] END .......................C=1, gamma=1, kernel=rbf; total time=   6.6s\n",
      "[CV 2/5] END .......................C=1, gamma=1, kernel=rbf; total time=   6.6s\n",
      "[CV 3/5] END .......................C=1, gamma=1, kernel=rbf; total time=   6.8s\n",
      "[CV 4/5] END .......................C=1, gamma=1, kernel=rbf; total time=   6.5s\n",
      "[CV 5/5] END .......................C=1, gamma=1, kernel=rbf; total time=   6.6s\n",
      "[CV 1/5] END .....................C=1, gamma=0.1, kernel=rbf; total time=   4.0s\n",
      "[CV 2/5] END .....................C=1, gamma=0.1, kernel=rbf; total time=   4.3s\n",
      "[CV 3/5] END .....................C=1, gamma=0.1, kernel=rbf; total time=   4.2s\n",
      "[CV 4/5] END .....................C=1, gamma=0.1, kernel=rbf; total time=   4.3s\n",
      "[CV 5/5] END .....................C=1, gamma=0.1, kernel=rbf; total time=   4.0s\n",
      "[CV 1/5] END ....................C=1, gamma=0.01, kernel=rbf; total time=   3.7s\n",
      "[CV 2/5] END ....................C=1, gamma=0.01, kernel=rbf; total time=   3.7s\n",
      "[CV 3/5] END ....................C=1, gamma=0.01, kernel=rbf; total time=   3.8s\n",
      "[CV 4/5] END ....................C=1, gamma=0.01, kernel=rbf; total time=   4.0s\n",
      "[CV 5/5] END ....................C=1, gamma=0.01, kernel=rbf; total time=   3.7s\n",
      "[CV 1/5] END ...................C=1, gamma=0.001, kernel=rbf; total time=   3.0s\n",
      "[CV 2/5] END ...................C=1, gamma=0.001, kernel=rbf; total time=   2.8s\n",
      "[CV 3/5] END ...................C=1, gamma=0.001, kernel=rbf; total time=   3.3s\n",
      "[CV 4/5] END ...................C=1, gamma=0.001, kernel=rbf; total time=   3.5s\n",
      "[CV 5/5] END ...................C=1, gamma=0.001, kernel=rbf; total time=   3.3s\n",
      "[CV 1/5] END ..................C=1, gamma=0.0001, kernel=rbf; total time=   3.4s\n",
      "[CV 2/5] END ..................C=1, gamma=0.0001, kernel=rbf; total time=   3.3s\n",
      "[CV 3/5] END ..................C=1, gamma=0.0001, kernel=rbf; total time=   3.5s\n",
      "[CV 4/5] END ..................C=1, gamma=0.0001, kernel=rbf; total time=   3.6s\n",
      "[CV 5/5] END ..................C=1, gamma=0.0001, kernel=rbf; total time=   4.1s\n",
      "[CV 1/5] END ......................C=10, gamma=1, kernel=rbf; total time=   7.9s\n",
      "[CV 2/5] END ......................C=10, gamma=1, kernel=rbf; total time=   7.3s\n",
      "[CV 3/5] END ......................C=10, gamma=1, kernel=rbf; total time=   6.9s\n",
      "[CV 4/5] END ......................C=10, gamma=1, kernel=rbf; total time=   7.1s\n",
      "[CV 5/5] END ......................C=10, gamma=1, kernel=rbf; total time=   7.0s\n",
      "[CV 1/5] END ....................C=10, gamma=0.1, kernel=rbf; total time=   5.0s\n",
      "[CV 2/5] END ....................C=10, gamma=0.1, kernel=rbf; total time=   4.9s\n",
      "[CV 3/5] END ....................C=10, gamma=0.1, kernel=rbf; total time=   4.9s\n",
      "[CV 4/5] END ....................C=10, gamma=0.1, kernel=rbf; total time=   5.0s\n",
      "[CV 5/5] END ....................C=10, gamma=0.1, kernel=rbf; total time=   4.8s\n",
      "[CV 1/5] END ...................C=10, gamma=0.01, kernel=rbf; total time=   5.0s\n",
      "[CV 2/5] END ...................C=10, gamma=0.01, kernel=rbf; total time=   5.1s\n",
      "[CV 3/5] END ...................C=10, gamma=0.01, kernel=rbf; total time=   4.9s\n",
      "[CV 4/5] END ...................C=10, gamma=0.01, kernel=rbf; total time=   5.2s\n",
      "[CV 5/5] END ...................C=10, gamma=0.01, kernel=rbf; total time=   4.9s\n",
      "[CV 1/5] END ..................C=10, gamma=0.001, kernel=rbf; total time=   3.6s\n",
      "[CV 2/5] END ..................C=10, gamma=0.001, kernel=rbf; total time=   3.5s\n",
      "[CV 3/5] END ..................C=10, gamma=0.001, kernel=rbf; total time=   3.8s\n",
      "[CV 4/5] END ..................C=10, gamma=0.001, kernel=rbf; total time=   3.6s\n",
      "[CV 5/5] END ..................C=10, gamma=0.001, kernel=rbf; total time=   3.5s\n",
      "[CV 1/5] END .................C=10, gamma=0.0001, kernel=rbf; total time=   3.2s\n",
      "[CV 2/5] END .................C=10, gamma=0.0001, kernel=rbf; total time=   3.1s\n",
      "[CV 3/5] END .................C=10, gamma=0.0001, kernel=rbf; total time=   3.2s\n",
      "[CV 4/5] END .................C=10, gamma=0.0001, kernel=rbf; total time=   3.2s\n",
      "[CV 5/5] END .................C=10, gamma=0.0001, kernel=rbf; total time=   3.0s\n",
      "[CV 1/5] END .....................C=100, gamma=1, kernel=rbf; total time=   7.0s\n",
      "[CV 2/5] END .....................C=100, gamma=1, kernel=rbf; total time=   7.0s\n",
      "[CV 3/5] END .....................C=100, gamma=1, kernel=rbf; total time=   7.0s\n",
      "[CV 4/5] END .....................C=100, gamma=1, kernel=rbf; total time=   7.0s\n",
      "[CV 5/5] END .....................C=100, gamma=1, kernel=rbf; total time=   7.1s\n",
      "[CV 1/5] END ...................C=100, gamma=0.1, kernel=rbf; total time=   7.3s\n",
      "[CV 2/5] END ...................C=100, gamma=0.1, kernel=rbf; total time=   6.7s\n",
      "[CV 3/5] END ...................C=100, gamma=0.1, kernel=rbf; total time=   6.7s\n",
      "[CV 4/5] END ...................C=100, gamma=0.1, kernel=rbf; total time=   7.0s\n",
      "[CV 5/5] END ...................C=100, gamma=0.1, kernel=rbf; total time=   6.8s\n",
      "[CV 1/5] END ..................C=100, gamma=0.01, kernel=rbf; total time=   7.4s\n",
      "[CV 2/5] END ..................C=100, gamma=0.01, kernel=rbf; total time=   7.6s\n",
      "[CV 3/5] END ..................C=100, gamma=0.01, kernel=rbf; total time=   7.5s\n",
      "[CV 4/5] END ..................C=100, gamma=0.01, kernel=rbf; total time=   8.4s\n",
      "[CV 5/5] END ..................C=100, gamma=0.01, kernel=rbf; total time=   7.4s\n",
      "[CV 1/5] END .................C=100, gamma=0.001, kernel=rbf; total time=   6.8s\n",
      "[CV 2/5] END .................C=100, gamma=0.001, kernel=rbf; total time=   6.2s\n",
      "[CV 3/5] END .................C=100, gamma=0.001, kernel=rbf; total time=   6.9s\n",
      "[CV 4/5] END .................C=100, gamma=0.001, kernel=rbf; total time=   7.1s\n",
      "[CV 5/5] END .................C=100, gamma=0.001, kernel=rbf; total time=   6.4s\n",
      "[CV 1/5] END ................C=100, gamma=0.0001, kernel=rbf; total time=   3.7s\n",
      "[CV 2/5] END ................C=100, gamma=0.0001, kernel=rbf; total time=   3.4s\n",
      "[CV 3/5] END ................C=100, gamma=0.0001, kernel=rbf; total time=   4.7s\n",
      "[CV 4/5] END ................C=100, gamma=0.0001, kernel=rbf; total time=   3.7s\n",
      "[CV 5/5] END ................C=100, gamma=0.0001, kernel=rbf; total time=   4.1s\n",
      "[CV 1/5] END ....................C=1000, gamma=1, kernel=rbf; total time=   7.3s\n",
      "[CV 2/5] END ....................C=1000, gamma=1, kernel=rbf; total time=   7.3s\n",
      "[CV 3/5] END ....................C=1000, gamma=1, kernel=rbf; total time=   6.9s\n",
      "[CV 4/5] END ....................C=1000, gamma=1, kernel=rbf; total time=   7.0s\n",
      "[CV 5/5] END ....................C=1000, gamma=1, kernel=rbf; total time=   6.9s\n",
      "[CV 1/5] END ..................C=1000, gamma=0.1, kernel=rbf; total time=   7.4s\n",
      "[CV 2/5] END ..................C=1000, gamma=0.1, kernel=rbf; total time=   7.5s\n",
      "[CV 3/5] END ..................C=1000, gamma=0.1, kernel=rbf; total time=   7.8s\n",
      "[CV 4/5] END ..................C=1000, gamma=0.1, kernel=rbf; total time=   8.3s\n",
      "[CV 5/5] END ..................C=1000, gamma=0.1, kernel=rbf; total time=   7.8s\n",
      "[CV 1/5] END .................C=1000, gamma=0.01, kernel=rbf; total time=  17.6s\n",
      "[CV 2/5] END .................C=1000, gamma=0.01, kernel=rbf; total time=  16.8s\n",
      "[CV 3/5] END .................C=1000, gamma=0.01, kernel=rbf; total time=  15.6s\n",
      "[CV 4/5] END .................C=1000, gamma=0.01, kernel=rbf; total time=  17.3s\n",
      "[CV 5/5] END .................C=1000, gamma=0.01, kernel=rbf; total time=  16.0s\n",
      "[CV 1/5] END ................C=1000, gamma=0.001, kernel=rbf; total time=  19.2s\n",
      "[CV 2/5] END ................C=1000, gamma=0.001, kernel=rbf; total time=  20.5s\n",
      "[CV 3/5] END ................C=1000, gamma=0.001, kernel=rbf; total time=  21.6s\n",
      "[CV 4/5] END ................C=1000, gamma=0.001, kernel=rbf; total time=  22.7s\n",
      "[CV 5/5] END ................C=1000, gamma=0.001, kernel=rbf; total time=  20.2s\n",
      "[CV 1/5] END ...............C=1000, gamma=0.0001, kernel=rbf; total time=   9.4s\n",
      "[CV 2/5] END ...............C=1000, gamma=0.0001, kernel=rbf; total time=   8.6s\n",
      "[CV 3/5] END ...............C=1000, gamma=0.0001, kernel=rbf; total time=   7.6s\n",
      "[CV 4/5] END ...............C=1000, gamma=0.0001, kernel=rbf; total time=   7.5s\n",
      "[CV 5/5] END ...............C=1000, gamma=0.0001, kernel=rbf; total time=   6.5s\n"
     ]
    },
    {
     "data": {
      "text/plain": [
       "GridSearchCV(estimator=SVC(),\n",
       "             param_grid={'C': [0.1, 1, 10, 100, 1000],\n",
       "                         'gamma': [1, 0.1, 0.01, 0.001, 0.0001],\n",
       "                         'kernel': ['rbf']},\n",
       "             verbose=3)"
      ]
     },
     "execution_count": 49,
     "metadata": {},
     "output_type": "execute_result"
    }
   ],
   "source": [
    "grid = GridSearchCV(SVC(),param_grid,verbose=3)\n",
    "grid.fit(Xtrain,ytrain)"
   ]
  },
  {
   "cell_type": "code",
   "execution_count": 50,
   "id": "3d8a9a9b",
   "metadata": {},
   "outputs": [
    {
     "data": {
      "text/plain": [
       "{'C': 1, 'gamma': 0.1, 'kernel': 'rbf'}"
      ]
     },
     "execution_count": 50,
     "metadata": {},
     "output_type": "execute_result"
    }
   ],
   "source": [
    "grid.best_params_"
   ]
  },
  {
   "cell_type": "code",
   "execution_count": 51,
   "id": "844bd7ac",
   "metadata": {},
   "outputs": [
    {
     "data": {
      "text/plain": [
       "SVC(C=1, gamma=0.1)"
      ]
     },
     "execution_count": 51,
     "metadata": {},
     "output_type": "execute_result"
    }
   ],
   "source": [
    "grid.best_estimator_"
   ]
  },
  {
   "cell_type": "code",
   "execution_count": 52,
   "id": "3642b92a",
   "metadata": {},
   "outputs": [],
   "source": [
    "grid_predictions = grid.predict(Xtest)"
   ]
  },
  {
   "cell_type": "code",
   "execution_count": 53,
   "id": "ef6a42a2",
   "metadata": {},
   "outputs": [
    {
     "name": "stdout",
     "output_type": "stream",
     "text": [
      "[[ 201  541]\n",
      " [  88 3279]]\n",
      "\n",
      "\n",
      "              precision    recall  f1-score   support\n",
      "\n",
      "           0       0.70      0.27      0.39       742\n",
      "           1       0.86      0.97      0.91      3367\n",
      "\n",
      "    accuracy                           0.85      4109\n",
      "   macro avg       0.78      0.62      0.65      4109\n",
      "weighted avg       0.83      0.85      0.82      4109\n",
      "\n"
     ]
    }
   ],
   "source": [
    "print(confusion_matrix(ytest,grid_predictions)) #tuning the SVC algorithm generates much better results, but still, the model needs to be improved or data sample size should be increased. \n",
    "print(\"\\n\")\n",
    "print(classification_report(ytest,grid_predictions))"
   ]
  },
  {
   "cell_type": "markdown",
   "id": "67c6cebe",
   "metadata": {},
   "source": [
    "Please check out pdf for more detailed information."
   ]
  }
 ],
 "metadata": {
  "kernelspec": {
   "display_name": "Python 3",
   "language": "python",
   "name": "python3"
  },
  "language_info": {
   "codemirror_mode": {
    "name": "ipython",
    "version": 3
   },
   "file_extension": ".py",
   "mimetype": "text/x-python",
   "name": "python",
   "nbconvert_exporter": "python",
   "pygments_lexer": "ipython3",
   "version": "3.8.8"
  }
 },
 "nbformat": 4,
 "nbformat_minor": 5
}
